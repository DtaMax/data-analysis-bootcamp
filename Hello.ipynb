{
  "nbformat": 4,
  "nbformat_minor": 0,
  "metadata": {
    "colab": {
      "provenance": [],
      "authorship_tag": "ABX9TyPy69x8Khyts7W8tNKjtklh",
      "include_colab_link": true
    },
    "kernelspec": {
      "name": "python3",
      "display_name": "Python 3"
    },
    "language_info": {
      "name": "python"
    }
  },
  "cells": [
    {
      "cell_type": "markdown",
      "metadata": {
        "id": "view-in-github",
        "colab_type": "text"
      },
      "source": [
        "<a href=\"https://colab.research.google.com/github/DtaMax/data-analysis-bootcamp/blob/main/Hello.ipynb\" target=\"_parent\"><img src=\"https://colab.research.google.com/assets/colab-badge.svg\" alt=\"Open In Colab\"/></a>"
      ]
    },
    {
      "cell_type": "code",
      "execution_count": 5,
      "metadata": {
        "colab": {
          "base_uri": "https://localhost:8080/"
        },
        "id": "rkA4juY5wFmU",
        "outputId": "66de7a81-cba5-4272-bc5b-798c687a4b73"
      },
      "outputs": [
        {
          "output_type": "stream",
          "name": "stdout",
          "text": [
            "Hello, DPhi! Today I have executed my very first Python program. Thanks!\n"
          ]
        }
      ],
      "source": [
        "#this is my first thime coding in python\n",
        "\n",
        "print (\"Hello, DPhi! Today I have executed my very first Python program. Thanks!\")"
      ]
    }
  ]
}